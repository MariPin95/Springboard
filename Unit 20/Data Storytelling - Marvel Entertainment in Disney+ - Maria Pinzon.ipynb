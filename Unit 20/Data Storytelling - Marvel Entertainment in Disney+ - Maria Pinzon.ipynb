{
 "cells": [
  {
   "cell_type": "markdown",
   "id": "62fc3322",
   "metadata": {},
   "source": [
    "# Marvel Entertainment in Disney+"
   ]
  },
  {
   "cell_type": "markdown",
   "id": "cc82e0f3",
   "metadata": {},
   "source": [
    "Currently, Disney+ contains over 7000 TV shows and over 500 films that appeal to both children and adults. One of the biggest markets on the site is the entertainment that Marvel provides, focusing on movies and TV shows that are superhero based and contain plots that expand through many genres, mainly action and comedy. This notebook seeks to better illustrate to the executive team the reach that Marvel has through the site to better understand both the audience that it captures as well as areas in which it should be added or retreated. "
   ]
  },
  {
   "cell_type": "markdown",
   "id": "15195f3a",
   "metadata": {},
   "source": [
    "## Data Summary & Exploration"
   ]
  },
  {
   "cell_type": "markdown",
   "id": "15698ee9",
   "metadata": {},
   "source": [
    "This dataset contains the information of all the current titles found within the Disney+ website. The dataset is constantly changing as more content is added."
   ]
  },
  {
   "cell_type": "markdown",
   "id": "2e7daa97",
   "metadata": {},
   "source": [
    "### Column breakdown"
   ]
  },
  {
   "cell_type": "markdown",
   "id": "3e2424db",
   "metadata": {},
   "source": [
    " - show_id: Identifies each TV show or movie\n",
    " - type: Identifies if it is a TV show or movie\n",
    " - title, director, cast: Identifying production information\n",
    " - country: Country it was produced in\n",
    " - date_added: Date the content was added to the platform\n",
    " - release_year: Year the content was realeased\n",
    " - rating: Rating given to the content based on what audience it is directed to\n",
    " - duration: The length in time (either minutes or seasons)\n",
    " - listed_in = Genre it is listed in\n",
    " - description: Brief description of content\n",
    " - marvel: Is it content created by marvel (Y/N)"
   ]
  },
  {
   "cell_type": "code",
   "execution_count": 1,
   "id": "cb12d093",
   "metadata": {},
   "outputs": [],
   "source": [
    "import numpy as np \n",
    "import pandas as pd \n",
    "import matplotlib.pyplot as plt \n",
    "import seaborn as sns"
   ]
  },
  {
   "cell_type": "code",
   "execution_count": 2,
   "id": "474316db",
   "metadata": {},
   "outputs": [],
   "source": [
    "disney = pd.read_csv('Data/disney_plus_titles.csv')"
   ]
  },
  {
   "cell_type": "code",
   "execution_count": 3,
   "id": "2e0a6d29",
   "metadata": {},
   "outputs": [
    {
     "name": "stdout",
     "output_type": "stream",
     "text": [
      "(1450, 12)\n"
     ]
    },
    {
     "data": {
      "text/html": [
       "<div>\n",
       "<style scoped>\n",
       "    .dataframe tbody tr th:only-of-type {\n",
       "        vertical-align: middle;\n",
       "    }\n",
       "\n",
       "    .dataframe tbody tr th {\n",
       "        vertical-align: top;\n",
       "    }\n",
       "\n",
       "    .dataframe thead th {\n",
       "        text-align: right;\n",
       "    }\n",
       "</style>\n",
       "<table border=\"1\" class=\"dataframe\">\n",
       "  <thead>\n",
       "    <tr style=\"text-align: right;\">\n",
       "      <th></th>\n",
       "      <th>show_id</th>\n",
       "      <th>type</th>\n",
       "      <th>title</th>\n",
       "      <th>director</th>\n",
       "      <th>cast</th>\n",
       "      <th>country</th>\n",
       "      <th>date_added</th>\n",
       "      <th>release_year</th>\n",
       "      <th>rating</th>\n",
       "      <th>duration</th>\n",
       "      <th>listed_in</th>\n",
       "      <th>description</th>\n",
       "    </tr>\n",
       "  </thead>\n",
       "  <tbody>\n",
       "    <tr>\n",
       "      <th>0</th>\n",
       "      <td>s1</td>\n",
       "      <td>Movie</td>\n",
       "      <td>Duck the Halls: A Mickey Mouse Christmas Special</td>\n",
       "      <td>Alonso Ramirez Ramos, Dave Wasson</td>\n",
       "      <td>Chris Diamantopoulos, Tony Anselmo, Tress MacN...</td>\n",
       "      <td>NaN</td>\n",
       "      <td>November 26, 2021</td>\n",
       "      <td>2016</td>\n",
       "      <td>TV-G</td>\n",
       "      <td>23 min</td>\n",
       "      <td>Animation, Family</td>\n",
       "      <td>Join Mickey and the gang as they duck the halls!</td>\n",
       "    </tr>\n",
       "    <tr>\n",
       "      <th>1</th>\n",
       "      <td>s2</td>\n",
       "      <td>Movie</td>\n",
       "      <td>Ernest Saves Christmas</td>\n",
       "      <td>John Cherry</td>\n",
       "      <td>Jim Varney, Noelle Parker, Douglas Seale</td>\n",
       "      <td>NaN</td>\n",
       "      <td>November 26, 2021</td>\n",
       "      <td>1988</td>\n",
       "      <td>PG</td>\n",
       "      <td>91 min</td>\n",
       "      <td>Comedy</td>\n",
       "      <td>Santa Claus passes his magic bag to a new St. ...</td>\n",
       "    </tr>\n",
       "    <tr>\n",
       "      <th>2</th>\n",
       "      <td>s3</td>\n",
       "      <td>Movie</td>\n",
       "      <td>Ice Age: A Mammoth Christmas</td>\n",
       "      <td>Karen Disher</td>\n",
       "      <td>Raymond Albert Romano, John Leguizamo, Denis L...</td>\n",
       "      <td>United States</td>\n",
       "      <td>November 26, 2021</td>\n",
       "      <td>2011</td>\n",
       "      <td>TV-G</td>\n",
       "      <td>23 min</td>\n",
       "      <td>Animation, Comedy, Family</td>\n",
       "      <td>Sid the Sloth is on Santa's naughty list.</td>\n",
       "    </tr>\n",
       "    <tr>\n",
       "      <th>3</th>\n",
       "      <td>s4</td>\n",
       "      <td>Movie</td>\n",
       "      <td>The Queen Family Singalong</td>\n",
       "      <td>Hamish Hamilton</td>\n",
       "      <td>Darren Criss, Adam Lambert, Derek Hough, Alexa...</td>\n",
       "      <td>NaN</td>\n",
       "      <td>November 26, 2021</td>\n",
       "      <td>2021</td>\n",
       "      <td>TV-PG</td>\n",
       "      <td>41 min</td>\n",
       "      <td>Musical</td>\n",
       "      <td>This is real life, not just fantasy!</td>\n",
       "    </tr>\n",
       "    <tr>\n",
       "      <th>4</th>\n",
       "      <td>s5</td>\n",
       "      <td>TV Show</td>\n",
       "      <td>The Beatles: Get Back</td>\n",
       "      <td>NaN</td>\n",
       "      <td>John Lennon, Paul McCartney, George Harrison, ...</td>\n",
       "      <td>NaN</td>\n",
       "      <td>November 25, 2021</td>\n",
       "      <td>2021</td>\n",
       "      <td>NaN</td>\n",
       "      <td>1 Season</td>\n",
       "      <td>Docuseries, Historical, Music</td>\n",
       "      <td>A three-part documentary from Peter Jackson ca...</td>\n",
       "    </tr>\n",
       "  </tbody>\n",
       "</table>\n",
       "</div>"
      ],
      "text/plain": [
       "  show_id     type                                             title  \\\n",
       "0      s1    Movie  Duck the Halls: A Mickey Mouse Christmas Special   \n",
       "1      s2    Movie                            Ernest Saves Christmas   \n",
       "2      s3    Movie                      Ice Age: A Mammoth Christmas   \n",
       "3      s4    Movie                        The Queen Family Singalong   \n",
       "4      s5  TV Show                             The Beatles: Get Back   \n",
       "\n",
       "                            director  \\\n",
       "0  Alonso Ramirez Ramos, Dave Wasson   \n",
       "1                        John Cherry   \n",
       "2                       Karen Disher   \n",
       "3                    Hamish Hamilton   \n",
       "4                                NaN   \n",
       "\n",
       "                                                cast        country  \\\n",
       "0  Chris Diamantopoulos, Tony Anselmo, Tress MacN...            NaN   \n",
       "1           Jim Varney, Noelle Parker, Douglas Seale            NaN   \n",
       "2  Raymond Albert Romano, John Leguizamo, Denis L...  United States   \n",
       "3  Darren Criss, Adam Lambert, Derek Hough, Alexa...            NaN   \n",
       "4  John Lennon, Paul McCartney, George Harrison, ...            NaN   \n",
       "\n",
       "          date_added  release_year rating  duration  \\\n",
       "0  November 26, 2021          2016   TV-G    23 min   \n",
       "1  November 26, 2021          1988     PG    91 min   \n",
       "2  November 26, 2021          2011   TV-G    23 min   \n",
       "3  November 26, 2021          2021  TV-PG    41 min   \n",
       "4  November 25, 2021          2021    NaN  1 Season   \n",
       "\n",
       "                       listed_in  \\\n",
       "0              Animation, Family   \n",
       "1                         Comedy   \n",
       "2      Animation, Comedy, Family   \n",
       "3                        Musical   \n",
       "4  Docuseries, Historical, Music   \n",
       "\n",
       "                                         description  \n",
       "0   Join Mickey and the gang as they duck the halls!  \n",
       "1  Santa Claus passes his magic bag to a new St. ...  \n",
       "2          Sid the Sloth is on Santa's naughty list.  \n",
       "3               This is real life, not just fantasy!  \n",
       "4  A three-part documentary from Peter Jackson ca...  "
      ]
     },
     "execution_count": 3,
     "metadata": {},
     "output_type": "execute_result"
    }
   ],
   "source": [
    "# Explore the data\n",
    "print(disney.shape)\n",
    "disney.head()"
   ]
  },
  {
   "cell_type": "code",
   "execution_count": 4,
   "id": "03d7cc2a",
   "metadata": {},
   "outputs": [
    {
     "data": {
      "text/plain": [
       "show_id           0\n",
       "type              0\n",
       "title             0\n",
       "director        473\n",
       "cast            190\n",
       "country         219\n",
       "date_added        3\n",
       "release_year      0\n",
       "rating            3\n",
       "duration          0\n",
       "listed_in         0\n",
       "description       0\n",
       "dtype: int64"
      ]
     },
     "execution_count": 4,
     "metadata": {},
     "output_type": "execute_result"
    }
   ],
   "source": [
    "# Null values that each column contains\n",
    "disney.isna().sum()"
   ]
  },
  {
   "cell_type": "code",
   "execution_count": 5,
   "id": "f1dd789b",
   "metadata": {},
   "outputs": [],
   "source": [
    "# Add column of year added\n",
    "disney['year_added'] = pd.DatetimeIndex(disney['date_added']).year"
   ]
  },
  {
   "cell_type": "code",
   "execution_count": 6,
   "id": "d03305a1",
   "metadata": {},
   "outputs": [],
   "source": [
    "# Change 'listed_in' to 'genre'\n",
    "disney= disney.rename(columns = {'listed_in' : 'genre'})\n",
    "disney['genre'] = disney['genre'].apply(lambda x: x.split(',')[0])"
   ]
  },
  {
   "cell_type": "markdown",
   "id": "e172abf8",
   "metadata": {},
   "source": [
    "## Data Cleaning"
   ]
  },
  {
   "cell_type": "code",
   "execution_count": 7,
   "id": "bbe71c83",
   "metadata": {},
   "outputs": [],
   "source": [
    "disney['title'] = disney['title'].str.lower()\n",
    "disney['description'] = disney['description'].str.lower()"
   ]
  },
  {
   "cell_type": "code",
   "execution_count": 8,
   "id": "26392767",
   "metadata": {},
   "outputs": [],
   "source": [
    "marvel_keywords = ['marvel', 'black widow', 'wandavision', 'deadpool', 'wolverine', 'x-men', 's.h.i.e.l.d', \n",
    "                  'daredevil', 'jessica jones', 'shang-chi', 'eternals', 'fantastic four', 'luke cage', \n",
    "                  'iron fist', 'defenders', 'loki', 'hawkeye', 'the falcon', 'moon knight', 'hulk'\n",
    "                  'what if...?', 'the superhero squad', 'spider-man', 'spider-woman', 'silver surfer'\n",
    "                  'groot', 'rising initiation', 'ultimate comics', 'super hero adventures', 'all hail the king'\n",
    "                  'doctor strange']\n",
    "content = '|'.join(marvel_keywords)\n",
    "\n",
    "disney['marvel'] = disney['title'].str.contains(content)\n",
    "disney['marvel'] = disney['marvel'].replace([True, False], ['Yes', 'No'])"
   ]
  },
  {
   "cell_type": "markdown",
   "id": "593d8984",
   "metadata": {},
   "source": [
    "## Questions Answered"
   ]
  },
  {
   "cell_type": "markdown",
   "id": "c405ea28",
   "metadata": {},
   "source": [
    "### 1. Percentage of Marvel Entertainment vs Other"
   ]
  },
  {
   "cell_type": "code",
   "execution_count": 9,
   "id": "0118da62",
   "metadata": {},
   "outputs": [],
   "source": [
    "marvel_y = disney[disney['marvel']=='Yes']\n",
    "marvel_n = disney[disney['marvel']=='No']"
   ]
  },
  {
   "cell_type": "code",
   "execution_count": 10,
   "id": "e45df9bf",
   "metadata": {},
   "outputs": [],
   "source": [
    "marvel_percentage = (disney['marvel'].value_counts()/disney['marvel'].count())*100"
   ]
  },
  {
   "cell_type": "code",
   "execution_count": 11,
   "id": "71fe000a",
   "metadata": {},
   "outputs": [
    {
     "data": {
      "text/plain": [
       "Text(0.5, 1.0, 'Percentage of Marvel Entertainment in Disney+')"
      ]
     },
     "execution_count": 11,
     "metadata": {},
     "output_type": "execute_result"
    },
    {
     "data": {
      "image/png": "[encoded data removed]",
      "text/plain": [
       "<Figure size 432x288 with 1 Axes>"
      ]
     },
     "metadata": {},
     "output_type": "display_data"
    }
   ],
   "source": [
    "labels = ['Non-Marvel', 'Marvel']\n",
    "colors = ('blue', 'red')\n",
    "\n",
    "explode = (0, 0.4)\n",
    "fig, ax = plt.subplots()\n",
    "ax.pie(marvel_percentage, explode=explode, labels = labels, \n",
    "       colors=colors, shadow=True)\n",
    "ax.set_title('Percentage of Marvel Entertainment in Disney+', fontsize = 15)\n"
   ]
  },
  {
   "cell_type": "markdown",
   "id": "407118f2",
   "metadata": {},
   "source": [
    "### 2. Percentage of TV Shows vs Movies in Marvel Entertainment"
   ]
  },
  {
   "cell_type": "code",
   "execution_count": 12,
   "id": "c6cbfd47",
   "metadata": {},
   "outputs": [],
   "source": [
    "marvel_y_type = marvel_y['type'].value_counts()\n",
    "marvel_n_type = marvel_n['type'].value_counts()"
   ]
  },
  {
   "cell_type": "code",
   "execution_count": 13,
   "id": "e844e8b0",
   "metadata": {},
   "outputs": [],
   "source": [
    "marvel_y_type_percent = (marvel_y_type/marvel_y['type'].count())*100\n",
    "marvel_n_type_percent = (marvel_n_type/marvel_n['type'].count())*100"
   ]
  },
  {
   "cell_type": "code",
   "execution_count": 14,
   "id": "c931246d",
   "metadata": {},
   "outputs": [
    {
     "name": "stdout",
     "output_type": "stream",
     "text": [
      "Movie      57.317073\n",
      "TV Show    42.682927\n",
      "Name: type, dtype: float64\n"
     ]
    }
   ],
   "source": [
    "print(marvel_y_type_percent)"
   ]
  },
  {
   "cell_type": "code",
   "execution_count": 15,
   "id": "cc2704fb",
   "metadata": {},
   "outputs": [
    {
     "data": {
      "image/png": "[encoded data removed]",
      "text/plain": [
       "<Figure size 720x720 with 2 Axes>"
      ]
     },
     "metadata": {},
     "output_type": "display_data"
    }
   ],
   "source": [
    "labels_type = ['Movies', 'TV Shows']\n",
    "\n",
    "fig, (ax1, ax2) = plt.subplots(1,2, figsize = (10,10))\n",
    "fig.suptitle('Percentage of TV Shows and Movies in Marvel and Non-Marvel Entertainment', fontsize = 15)\n",
    "ax1.pie(marvel_y_type_percent, labels = labels_type, colors = colors)\n",
    "ax1.set_title('Marvel')\n",
    "ax2.pie(marvel_n_type_percent, labels = labels_type, colors = colors)\n",
    "ax2.set_title('Non-Marvel')\n",
    "\n",
    "plt.show()"
   ]
  },
  {
   "cell_type": "markdown",
   "id": "d2eaa9bc",
   "metadata": {},
   "source": [
    "### 3. Statistics of Entertainment added through the years"
   ]
  },
  {
   "cell_type": "code",
   "execution_count": 16,
   "id": "bfc5039b",
   "metadata": {},
   "outputs": [],
   "source": [
    "marvel_year_added = marvel_y.groupby('year_added').agg('count').reset_index()\n",
    "non_marvel_year_added = marvel_n.groupby('year_added').agg('count').reset_index()\n",
    "year_added = disney['year_added']"
   ]
  },
  {
   "cell_type": "code",
   "execution_count": 17,
   "id": "feb17ca8",
   "metadata": {},
   "outputs": [
    {
     "data": {
      "text/html": [
       "<div>\n",
       "<style scoped>\n",
       "    .dataframe tbody tr th:only-of-type {\n",
       "        vertical-align: middle;\n",
       "    }\n",
       "\n",
       "    .dataframe tbody tr th {\n",
       "        vertical-align: top;\n",
       "    }\n",
       "\n",
       "    .dataframe thead th {\n",
       "        text-align: right;\n",
       "    }\n",
       "</style>\n",
       "<table border=\"1\" class=\"dataframe\">\n",
       "  <thead>\n",
       "    <tr style=\"text-align: right;\">\n",
       "      <th></th>\n",
       "      <th>year_added</th>\n",
       "      <th>show_id</th>\n",
       "      <th>type</th>\n",
       "      <th>title</th>\n",
       "      <th>director</th>\n",
       "      <th>cast</th>\n",
       "      <th>country</th>\n",
       "      <th>date_added</th>\n",
       "      <th>release_year</th>\n",
       "      <th>rating</th>\n",
       "      <th>duration</th>\n",
       "      <th>genre</th>\n",
       "      <th>description</th>\n",
       "      <th>marvel</th>\n",
       "    </tr>\n",
       "  </thead>\n",
       "  <tbody>\n",
       "    <tr>\n",
       "      <th>0</th>\n",
       "      <td>2019.0</td>\n",
       "      <td>44</td>\n",
       "      <td>44</td>\n",
       "      <td>44</td>\n",
       "      <td>19</td>\n",
       "      <td>36</td>\n",
       "      <td>37</td>\n",
       "      <td>44</td>\n",
       "      <td>44</td>\n",
       "      <td>44</td>\n",
       "      <td>44</td>\n",
       "      <td>44</td>\n",
       "      <td>44</td>\n",
       "      <td>44</td>\n",
       "    </tr>\n",
       "    <tr>\n",
       "      <th>1</th>\n",
       "      <td>2020.0</td>\n",
       "      <td>16</td>\n",
       "      <td>16</td>\n",
       "      <td>16</td>\n",
       "      <td>10</td>\n",
       "      <td>13</td>\n",
       "      <td>14</td>\n",
       "      <td>16</td>\n",
       "      <td>16</td>\n",
       "      <td>16</td>\n",
       "      <td>16</td>\n",
       "      <td>16</td>\n",
       "      <td>16</td>\n",
       "      <td>16</td>\n",
       "    </tr>\n",
       "    <tr>\n",
       "      <th>2</th>\n",
       "      <td>2021.0</td>\n",
       "      <td>22</td>\n",
       "      <td>22</td>\n",
       "      <td>22</td>\n",
       "      <td>11</td>\n",
       "      <td>18</td>\n",
       "      <td>15</td>\n",
       "      <td>22</td>\n",
       "      <td>22</td>\n",
       "      <td>21</td>\n",
       "      <td>22</td>\n",
       "      <td>22</td>\n",
       "      <td>22</td>\n",
       "      <td>22</td>\n",
       "    </tr>\n",
       "  </tbody>\n",
       "</table>\n",
       "</div>"
      ],
      "text/plain": [
       "   year_added  show_id  type  title  director  cast  country  date_added  \\\n",
       "0      2019.0       44    44     44        19    36       37          44   \n",
       "1      2020.0       16    16     16        10    13       14          16   \n",
       "2      2021.0       22    22     22        11    18       15          22   \n",
       "\n",
       "   release_year  rating  duration  genre  description  marvel  \n",
       "0            44      44        44     44           44      44  \n",
       "1            16      16        16     16           16      16  \n",
       "2            22      21        22     22           22      22  "
      ]
     },
     "execution_count": 17,
     "metadata": {},
     "output_type": "execute_result"
    }
   ],
   "source": [
    "marvel_year_added"
   ]
  },
  {
   "cell_type": "code",
   "execution_count": 19,
   "id": "130ffab5",
   "metadata": {},
   "outputs": [
    {
     "data": {
      "image/png": "[encoded data removed]",
      "text/plain": [
       "<Figure size 1080x720 with 2 Axes>"
      ]
     },
     "metadata": {
      "needs_background": "light"
     },
     "output_type": "display_data"
    }
   ],
   "source": [
    "fig, (ax1, ax2) = plt.subplots(1,2, figsize = (15,10))\n",
    "fig.suptitle('Entertainment added through the years')\n",
    "marvel_year_added.plot(kind='bar', x='year_added', y='show_id', ax = ax1, legend= None)\n",
    "ax1.tick_params(axis='x', rotation = 0)\n",
    "ax1.set_title('Marvel')\n",
    "ax1.set_ylabel('Amount Added')\n",
    "ax1.set_xlabel('Year')\n",
    "non_marvel_year_added.plot(kind='bar', x='year_added', y='show_id', ax = ax2, legend= None)\n",
    "ax2.tick_params(axis='x', rotation = 0)\n",
    "ax2.set_ylabel('Amount Added')\n",
    "ax2.set_xlabel('Year')\n",
    "ax2.set_title('Non-Marvel')\n",
    "\n",
    "plt.show()"
   ]
  },
  {
   "cell_type": "markdown",
   "id": "26f52c5c",
   "metadata": {},
   "source": [
    "### 4. Genre breakdown of Marvel and Non-Marvel Entertainment"
   ]
  },
  {
   "cell_type": "code",
   "execution_count": 20,
   "id": "1e6ca2d9",
   "metadata": {},
   "outputs": [],
   "source": [
    "marvel_genre = marvel_y.groupby('genre').agg('count').reset_index()\n",
    "non_marvel_genre = marvel_n.groupby('genre').agg('count').reset_index()"
   ]
  },
  {
   "cell_type": "code",
   "execution_count": 21,
   "id": "ebbb8ec9",
   "metadata": {},
   "outputs": [
    {
     "data": {
      "text/html": [
       "<div>\n",
       "<style scoped>\n",
       "    .dataframe tbody tr th:only-of-type {\n",
       "        vertical-align: middle;\n",
       "    }\n",
       "\n",
       "    .dataframe tbody tr th {\n",
       "        vertical-align: top;\n",
       "    }\n",
       "\n",
       "    .dataframe thead th {\n",
       "        text-align: right;\n",
       "    }\n",
       "</style>\n",
       "<table border=\"1\" class=\"dataframe\">\n",
       "  <thead>\n",
       "    <tr style=\"text-align: right;\">\n",
       "      <th></th>\n",
       "      <th>genre</th>\n",
       "      <th>show_id</th>\n",
       "      <th>type</th>\n",
       "      <th>title</th>\n",
       "      <th>director</th>\n",
       "      <th>cast</th>\n",
       "      <th>country</th>\n",
       "      <th>date_added</th>\n",
       "      <th>release_year</th>\n",
       "      <th>rating</th>\n",
       "      <th>duration</th>\n",
       "      <th>description</th>\n",
       "      <th>year_added</th>\n",
       "      <th>marvel</th>\n",
       "    </tr>\n",
       "  </thead>\n",
       "  <tbody>\n",
       "    <tr>\n",
       "      <th>0</th>\n",
       "      <td>Action-Adventure</td>\n",
       "      <td>71</td>\n",
       "      <td>71</td>\n",
       "      <td>71</td>\n",
       "      <td>37</td>\n",
       "      <td>62</td>\n",
       "      <td>60</td>\n",
       "      <td>71</td>\n",
       "      <td>71</td>\n",
       "      <td>71</td>\n",
       "      <td>71</td>\n",
       "      <td>71</td>\n",
       "      <td>71</td>\n",
       "      <td>71</td>\n",
       "    </tr>\n",
       "    <tr>\n",
       "      <th>1</th>\n",
       "      <td>Animation</td>\n",
       "      <td>1</td>\n",
       "      <td>1</td>\n",
       "      <td>1</td>\n",
       "      <td>1</td>\n",
       "      <td>1</td>\n",
       "      <td>0</td>\n",
       "      <td>1</td>\n",
       "      <td>1</td>\n",
       "      <td>1</td>\n",
       "      <td>1</td>\n",
       "      <td>1</td>\n",
       "      <td>1</td>\n",
       "      <td>1</td>\n",
       "    </tr>\n",
       "    <tr>\n",
       "      <th>2</th>\n",
       "      <td>Anthology</td>\n",
       "      <td>3</td>\n",
       "      <td>3</td>\n",
       "      <td>3</td>\n",
       "      <td>0</td>\n",
       "      <td>0</td>\n",
       "      <td>1</td>\n",
       "      <td>3</td>\n",
       "      <td>3</td>\n",
       "      <td>2</td>\n",
       "      <td>3</td>\n",
       "      <td>3</td>\n",
       "      <td>3</td>\n",
       "      <td>3</td>\n",
       "    </tr>\n",
       "    <tr>\n",
       "      <th>3</th>\n",
       "      <td>Comedy</td>\n",
       "      <td>1</td>\n",
       "      <td>1</td>\n",
       "      <td>1</td>\n",
       "      <td>1</td>\n",
       "      <td>1</td>\n",
       "      <td>1</td>\n",
       "      <td>1</td>\n",
       "      <td>1</td>\n",
       "      <td>1</td>\n",
       "      <td>1</td>\n",
       "      <td>1</td>\n",
       "      <td>1</td>\n",
       "      <td>1</td>\n",
       "    </tr>\n",
       "    <tr>\n",
       "      <th>4</th>\n",
       "      <td>Coming of Age</td>\n",
       "      <td>1</td>\n",
       "      <td>1</td>\n",
       "      <td>1</td>\n",
       "      <td>0</td>\n",
       "      <td>1</td>\n",
       "      <td>1</td>\n",
       "      <td>1</td>\n",
       "      <td>1</td>\n",
       "      <td>1</td>\n",
       "      <td>1</td>\n",
       "      <td>1</td>\n",
       "      <td>1</td>\n",
       "      <td>1</td>\n",
       "    </tr>\n",
       "    <tr>\n",
       "      <th>5</th>\n",
       "      <td>Documentary</td>\n",
       "      <td>2</td>\n",
       "      <td>2</td>\n",
       "      <td>2</td>\n",
       "      <td>1</td>\n",
       "      <td>1</td>\n",
       "      <td>1</td>\n",
       "      <td>2</td>\n",
       "      <td>2</td>\n",
       "      <td>2</td>\n",
       "      <td>2</td>\n",
       "      <td>2</td>\n",
       "      <td>2</td>\n",
       "      <td>2</td>\n",
       "    </tr>\n",
       "    <tr>\n",
       "      <th>6</th>\n",
       "      <td>Docuseries</td>\n",
       "      <td>1</td>\n",
       "      <td>1</td>\n",
       "      <td>1</td>\n",
       "      <td>0</td>\n",
       "      <td>0</td>\n",
       "      <td>1</td>\n",
       "      <td>1</td>\n",
       "      <td>1</td>\n",
       "      <td>1</td>\n",
       "      <td>1</td>\n",
       "      <td>1</td>\n",
       "      <td>1</td>\n",
       "      <td>1</td>\n",
       "    </tr>\n",
       "    <tr>\n",
       "      <th>7</th>\n",
       "      <td>Drama</td>\n",
       "      <td>1</td>\n",
       "      <td>1</td>\n",
       "      <td>1</td>\n",
       "      <td>0</td>\n",
       "      <td>1</td>\n",
       "      <td>1</td>\n",
       "      <td>1</td>\n",
       "      <td>1</td>\n",
       "      <td>1</td>\n",
       "      <td>1</td>\n",
       "      <td>1</td>\n",
       "      <td>1</td>\n",
       "      <td>1</td>\n",
       "    </tr>\n",
       "    <tr>\n",
       "      <th>8</th>\n",
       "      <td>Movies</td>\n",
       "      <td>1</td>\n",
       "      <td>1</td>\n",
       "      <td>1</td>\n",
       "      <td>0</td>\n",
       "      <td>0</td>\n",
       "      <td>0</td>\n",
       "      <td>1</td>\n",
       "      <td>1</td>\n",
       "      <td>1</td>\n",
       "      <td>1</td>\n",
       "      <td>1</td>\n",
       "      <td>1</td>\n",
       "      <td>1</td>\n",
       "    </tr>\n",
       "  </tbody>\n",
       "</table>\n",
       "</div>"
      ],
      "text/plain": [
       "              genre  show_id  type  title  director  cast  country  \\\n",
       "0  Action-Adventure       71    71     71        37    62       60   \n",
       "1         Animation        1     1      1         1     1        0   \n",
       "2         Anthology        3     3      3         0     0        1   \n",
       "3            Comedy        1     1      1         1     1        1   \n",
       "4     Coming of Age        1     1      1         0     1        1   \n",
       "5       Documentary        2     2      2         1     1        1   \n",
       "6        Docuseries        1     1      1         0     0        1   \n",
       "7             Drama        1     1      1         0     1        1   \n",
       "8            Movies        1     1      1         0     0        0   \n",
       "\n",
       "   date_added  release_year  rating  duration  description  year_added  marvel  \n",
       "0          71            71      71        71           71          71      71  \n",
       "1           1             1       1         1            1           1       1  \n",
       "2           3             3       2         3            3           3       3  \n",
       "3           1             1       1         1            1           1       1  \n",
       "4           1             1       1         1            1           1       1  \n",
       "5           2             2       2         2            2           2       2  \n",
       "6           1             1       1         1            1           1       1  \n",
       "7           1             1       1         1            1           1       1  \n",
       "8           1             1       1         1            1           1       1  "
      ]
     },
     "execution_count": 21,
     "metadata": {},
     "output_type": "execute_result"
    }
   ],
   "source": [
    "marvel_genre"
   ]
  },
  {
   "cell_type": "code",
   "execution_count": 23,
   "id": "bd234b2b",
   "metadata": {},
   "outputs": [
    {
     "data": {
      "image/png": "[encoded data removed]",
      "text/plain": [
       "<Figure size 1080x1080 with 2 Axes>"
      ]
     },
     "metadata": {
      "needs_background": "light"
     },
     "output_type": "display_data"
    }
   ],
   "source": [
    "fig, (ax1, ax2) = plt.subplots(1,2, figsize = (15,15))\n",
    "fig.suptitle('Genre Breakdown', fontsize = 15)\n",
    "fig.tight_layout(pad = 15)\n",
    "marvel_genre.plot(kind='barh', x='genre', y='show_id', ax = ax1, legend= None)\n",
    "ax1.tick_params(axis='x', rotation = 0)\n",
    "ax1.set_title('Marvel')\n",
    "non_marvel_genre.plot(kind='barh', x='genre', y='show_id', ax = ax2, legend= None)\n",
    "ax2.tick_params(axis='x', rotation = 0)\n",
    "ax2.set_title('Non-Marvel')\n",
    "\n",
    "\n",
    "plt.show()"
   ]
  },
  {
   "cell_type": "markdown",
   "id": "5f8ca5c5",
   "metadata": {},
   "source": [
    "### 5. Rating Breakdown"
   ]
  },
  {
   "cell_type": "code",
   "execution_count": 24,
   "id": "600a03e9",
   "metadata": {},
   "outputs": [],
   "source": [
    "marvel_rating = marvel_y.groupby('rating').agg('count').reset_index()\n",
    "non_marvel_rating = marvel_n.groupby('rating').agg('count').reset_index()"
   ]
  },
  {
   "cell_type": "code",
   "execution_count": 25,
   "id": "a8c45913",
   "metadata": {},
   "outputs": [
    {
     "data": {
      "text/html": [
       "<div>\n",
       "<style scoped>\n",
       "    .dataframe tbody tr th:only-of-type {\n",
       "        vertical-align: middle;\n",
       "    }\n",
       "\n",
       "    .dataframe tbody tr th {\n",
       "        vertical-align: top;\n",
       "    }\n",
       "\n",
       "    .dataframe thead th {\n",
       "        text-align: right;\n",
       "    }\n",
       "</style>\n",
       "<table border=\"1\" class=\"dataframe\">\n",
       "  <thead>\n",
       "    <tr style=\"text-align: right;\">\n",
       "      <th></th>\n",
       "      <th>rating</th>\n",
       "      <th>show_id</th>\n",
       "      <th>type</th>\n",
       "      <th>title</th>\n",
       "      <th>director</th>\n",
       "      <th>cast</th>\n",
       "      <th>country</th>\n",
       "      <th>date_added</th>\n",
       "      <th>release_year</th>\n",
       "      <th>duration</th>\n",
       "      <th>genre</th>\n",
       "      <th>description</th>\n",
       "      <th>year_added</th>\n",
       "      <th>marvel</th>\n",
       "    </tr>\n",
       "  </thead>\n",
       "  <tbody>\n",
       "    <tr>\n",
       "      <th>0</th>\n",
       "      <td>PG</td>\n",
       "      <td>3</td>\n",
       "      <td>3</td>\n",
       "      <td>3</td>\n",
       "      <td>3</td>\n",
       "      <td>3</td>\n",
       "      <td>3</td>\n",
       "      <td>3</td>\n",
       "      <td>3</td>\n",
       "      <td>3</td>\n",
       "      <td>3</td>\n",
       "      <td>3</td>\n",
       "      <td>3</td>\n",
       "      <td>3</td>\n",
       "    </tr>\n",
       "    <tr>\n",
       "      <th>1</th>\n",
       "      <td>PG-13</td>\n",
       "      <td>30</td>\n",
       "      <td>30</td>\n",
       "      <td>30</td>\n",
       "      <td>30</td>\n",
       "      <td>30</td>\n",
       "      <td>30</td>\n",
       "      <td>30</td>\n",
       "      <td>30</td>\n",
       "      <td>30</td>\n",
       "      <td>30</td>\n",
       "      <td>30</td>\n",
       "      <td>30</td>\n",
       "      <td>30</td>\n",
       "    </tr>\n",
       "    <tr>\n",
       "      <th>2</th>\n",
       "      <td>TV-14</td>\n",
       "      <td>11</td>\n",
       "      <td>11</td>\n",
       "      <td>11</td>\n",
       "      <td>1</td>\n",
       "      <td>8</td>\n",
       "      <td>7</td>\n",
       "      <td>11</td>\n",
       "      <td>11</td>\n",
       "      <td>11</td>\n",
       "      <td>11</td>\n",
       "      <td>11</td>\n",
       "      <td>11</td>\n",
       "      <td>11</td>\n",
       "    </tr>\n",
       "    <tr>\n",
       "      <th>3</th>\n",
       "      <td>TV-G</td>\n",
       "      <td>1</td>\n",
       "      <td>1</td>\n",
       "      <td>1</td>\n",
       "      <td>1</td>\n",
       "      <td>1</td>\n",
       "      <td>0</td>\n",
       "      <td>1</td>\n",
       "      <td>1</td>\n",
       "      <td>1</td>\n",
       "      <td>1</td>\n",
       "      <td>1</td>\n",
       "      <td>1</td>\n",
       "      <td>1</td>\n",
       "    </tr>\n",
       "    <tr>\n",
       "      <th>4</th>\n",
       "      <td>TV-PG</td>\n",
       "      <td>6</td>\n",
       "      <td>6</td>\n",
       "      <td>6</td>\n",
       "      <td>2</td>\n",
       "      <td>3</td>\n",
       "      <td>3</td>\n",
       "      <td>6</td>\n",
       "      <td>6</td>\n",
       "      <td>6</td>\n",
       "      <td>6</td>\n",
       "      <td>6</td>\n",
       "      <td>6</td>\n",
       "      <td>6</td>\n",
       "    </tr>\n",
       "    <tr>\n",
       "      <th>5</th>\n",
       "      <td>TV-Y</td>\n",
       "      <td>1</td>\n",
       "      <td>1</td>\n",
       "      <td>1</td>\n",
       "      <td>0</td>\n",
       "      <td>0</td>\n",
       "      <td>1</td>\n",
       "      <td>1</td>\n",
       "      <td>1</td>\n",
       "      <td>1</td>\n",
       "      <td>1</td>\n",
       "      <td>1</td>\n",
       "      <td>1</td>\n",
       "      <td>1</td>\n",
       "    </tr>\n",
       "    <tr>\n",
       "      <th>6</th>\n",
       "      <td>TV-Y7</td>\n",
       "      <td>26</td>\n",
       "      <td>26</td>\n",
       "      <td>26</td>\n",
       "      <td>2</td>\n",
       "      <td>19</td>\n",
       "      <td>19</td>\n",
       "      <td>26</td>\n",
       "      <td>26</td>\n",
       "      <td>26</td>\n",
       "      <td>26</td>\n",
       "      <td>26</td>\n",
       "      <td>26</td>\n",
       "      <td>26</td>\n",
       "    </tr>\n",
       "    <tr>\n",
       "      <th>7</th>\n",
       "      <td>TV-Y7-FV</td>\n",
       "      <td>3</td>\n",
       "      <td>3</td>\n",
       "      <td>3</td>\n",
       "      <td>1</td>\n",
       "      <td>3</td>\n",
       "      <td>3</td>\n",
       "      <td>3</td>\n",
       "      <td>3</td>\n",
       "      <td>3</td>\n",
       "      <td>3</td>\n",
       "      <td>3</td>\n",
       "      <td>3</td>\n",
       "      <td>3</td>\n",
       "    </tr>\n",
       "  </tbody>\n",
       "</table>\n",
       "</div>"
      ],
      "text/plain": [
       "     rating  show_id  type  title  director  cast  country  date_added  \\\n",
       "0        PG        3     3      3         3     3        3           3   \n",
       "1     PG-13       30    30     30        30    30       30          30   \n",
       "2     TV-14       11    11     11         1     8        7          11   \n",
       "3      TV-G        1     1      1         1     1        0           1   \n",
       "4     TV-PG        6     6      6         2     3        3           6   \n",
       "5      TV-Y        1     1      1         0     0        1           1   \n",
       "6     TV-Y7       26    26     26         2    19       19          26   \n",
       "7  TV-Y7-FV        3     3      3         1     3        3           3   \n",
       "\n",
       "   release_year  duration  genre  description  year_added  marvel  \n",
       "0             3         3      3            3           3       3  \n",
       "1            30        30     30           30          30      30  \n",
       "2            11        11     11           11          11      11  \n",
       "3             1         1      1            1           1       1  \n",
       "4             6         6      6            6           6       6  \n",
       "5             1         1      1            1           1       1  \n",
       "6            26        26     26           26          26      26  \n",
       "7             3         3      3            3           3       3  "
      ]
     },
     "execution_count": 25,
     "metadata": {},
     "output_type": "execute_result"
    }
   ],
   "source": [
    "marvel_rating"
   ]
  },
  {
   "cell_type": "code",
   "execution_count": 26,
   "id": "2e4c0766",
   "metadata": {},
   "outputs": [
    {
     "data": {
      "image/png": "[encoded data removed]",
      "text/plain": [
       "<Figure size 1080x1080 with 2 Axes>"
      ]
     },
     "metadata": {
      "needs_background": "light"
     },
     "output_type": "display_data"
    }
   ],
   "source": [
    "fig, (ax1, ax2) = plt.subplots(1,2, figsize = (15,15))\n",
    "fig.suptitle('Rating Breakdown', fontsize = 15)\n",
    "fig.tight_layout(pad = 15)\n",
    "marvel_rating.plot(kind='barh', x='rating', y='show_id', ax = ax1, legend= None)\n",
    "ax1.tick_params(axis='x', rotation = 0)\n",
    "ax1.set_title('Marvel')\n",
    "non_marvel_rating.plot(kind='barh', x='rating', y='show_id', ax = ax2, legend= None)\n",
    "ax2.tick_params(axis='x', rotation = 0)\n",
    "ax2.set_title('Non-Marvel')\n",
    "\n",
    "\n",
    "plt.show()"
   ]
  },
  {
   "cell_type": "markdown",
   "id": "f21d8863",
   "metadata": {},
   "source": [
    "## Conclusion "
   ]
  },
  {
   "cell_type": "markdown",
   "id": "114c50b8",
   "metadata": {},
   "source": [
    "This notebook aims to demonstrate various statistics regarding the content that is provided by Marvel in the Disney+ streaming service and provides information to the executive board regarding the type of content that dominates the platform. These statistics show that although Marvel is a big powerhouse when it comes to the overall entertainment provided, it stills has areas that it can expand to, especially in the genre and rating departments. Overall, these plots give an insight into the platform and it could be further expanded to other studios such as Pixar. "
   ]
  }
 ],
 "metadata": {
  "kernelspec": {
   "display_name": "Python 3",
   "language": "python",
   "name": "python3"
  },
  "language_info": {
   "codemirror_mode": {
    "name": "ipython",
    "version": 3
   },
   "file_extension": ".py",
   "mimetype": "text/x-python",
   "name": "python",
   "nbconvert_exporter": "python",
   "pygments_lexer": "ipython3",
   "version": "3.8.8"
  }
 },
 "nbformat": 4,
 "nbformat_minor": 5
}
